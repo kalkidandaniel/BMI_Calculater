{
 "cells": [
  {
   "cell_type": "markdown",
   "id": "12e59589-3291-4e89-a981-5b3f4e210643",
   "metadata": {},
   "source": [
    "## BMI Calculator"
   ]
  },
  {
   "cell_type": "code",
   "execution_count": 8,
   "id": "9c16ff92-0dc3-40b6-ac4a-26805bd22e18",
   "metadata": {},
   "outputs": [
    {
     "name": "stdin",
     "output_type": "stream",
     "text": [
      "Enter your weight in pounds:   170\n",
      "Enter your height in inches:   68\n"
     ]
    },
    {
     "name": "stdout",
     "output_type": "stream",
     "text": [
      "25.845588235294116\n"
     ]
    }
   ],
   "source": [
    "weight = int(input(\"Enter your weight in pounds:  \"))\n",
    "height = int(input(\"Enter your height in inches:  \"))\n",
    "\n",
    "BMI = (weight * 703) / (height * height)\n",
    "\n",
    "print (BMI)"
   ]
  },
  {
   "cell_type": "code",
   "execution_count": null,
   "id": "b59004f1-85f4-47c2-95d6-1ac41b5b454c",
   "metadata": {},
   "outputs": [],
   "source": [
    "BMI\tStatus\n",
    "≤ 18.4\tUnderweight\n",
    "18.5 - 24.9\tNormal\n",
    "25.0 - 39.9\tOverweight\n",
    "≥ 40.0\tObese"
   ]
  },
  {
   "cell_type": "code",
   "execution_count": null,
   "id": "28c2cf04-a358-4f10-8dfb-2ff221aa8356",
   "metadata": {},
   "outputs": [],
   "source": []
  },
  {
   "cell_type": "code",
   "execution_count": null,
   "id": "282cbaf5-d567-4fe9-80b7-831b166ad2ff",
   "metadata": {},
   "outputs": [],
   "source": []
  }
 ],
 "metadata": {
  "kernelspec": {
   "display_name": "Python 3 (ipykernel)",
   "language": "python",
   "name": "python3"
  },
  "language_info": {
   "codemirror_mode": {
    "name": "ipython",
    "version": 3
   },
   "file_extension": ".py",
   "mimetype": "text/x-python",
   "name": "python",
   "nbconvert_exporter": "python",
   "pygments_lexer": "ipython3",
   "version": "3.12.7"
  }
 },
 "nbformat": 4,
 "nbformat_minor": 5
}
